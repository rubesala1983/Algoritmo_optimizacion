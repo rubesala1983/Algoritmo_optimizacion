{
  "nbformat": 4,
  "nbformat_minor": 0,
  "metadata": {
    "colab": {
      "provenance": []
    },
    "kernelspec": {
      "name": "python3",
      "display_name": "Python 3"
    }
  },
  "cells": [
    {
      "cell_type": "markdown",
      "metadata": {
        "id": "hVbXYX-RfPWh"
      },
      "source": [
        "# Algoritmos de optimización - Trabajo Práctico<br>\n",
        "Nombre y Apellidos: Ruben Dario Salazar Aya <br>\n",
        "Url: https://github.com/rubesala1983/Algoritmo_optimizacion/tree/main/Trabajo%20Practico <br>\n",
        "Google Colab: https://colab.research.google.com/drive/1ANETtgeiIBSyy2Ak64eEgQGtsGDfPWLq#scrollTo=hVbXYX-RfPWh<br>\n",
        "Problema:\n",
        ">1. Sesiones de doblaje <br>\n",
        ">2. Organizar los horarios de partidos de una jornada de La Liga<br>\n",
        ">3. Configuración de Tribunales\n",
        "\n",
        "Descripción del problema:(copiar enunciado)\n",
        "\n",
        "Sesiones de doblaje\n",
        "\n",
        "Se precisa coordinar el doblaje de una película. Los actores del doblaje deben coincidir en las tomas en las que sus personajes aparecen juntos en las diferentes tomas. Los actores de doblaje cobran todos la misma cantidad por cada día que deben desplazarse hasta el estudio de grabación independientemente del número de tomas que se graben. No es posible grabar más de 6 tomas por día. El objetivo es planificar las sesiones por día de manera que el gasto por los\n",
        "servicios de los actores de doblaje sea el menor posible.                                      "
      ]
    },
    {
      "cell_type": "markdown",
      "source": [
        "#Modelo\n",
        "A.¿Como represento el espacio de soluciones?\n",
        "\n",
        "B. ¿Como implemento las restricciones?\n",
        "\n",
        "C. ¿Cual es la función objetivo?\n",
        "\n"
      ],
      "metadata": {
        "id": "Sbo9IqQtpaHZ"
      }
    },
    {
      "cell_type": "markdown",
      "source": [
        "# **A. ¿Como represento el espacio de soluciones?**\n",
        "\n",
        "El espacio de soluciones lo podemos representar mediante una matriz bidimensional de variables binarias (𝑦𝑎,𝑑), donde cada fila representa un actor y cada columna un día.\n",
        "Vemos que cada elemento de la matriz es una variable binaria que toma el valor 1 si el actor trabaja ese día o 0 si no trabaja.\n",
        "\n",
        "Por lo tanto, cada posible combinación de ceros y unos en la matriz representa una para representar las decisiones del problema\n",
        "\n",
        "\n",
        "El problema quiero mostrarlo  de la siguiente manera:\n",
        "\n",
        "1. Variables del modelo:\n",
        "Para representar el espacio de soluciones, se utilizarán dos conjuntos principales de variables binarias:\n",
        "\n",
        "Variable 𝑋𝑡𝑑\n",
        "\n",
        "Indica si la toma 𝑡 está asignada al día 𝑑\n",
        "\n",
        "$$\n",
        "X_{t,d} =\n",
        "\\begin{cases}\n",
        "1 & \\text{si la toma } t \\text{ se realiza el día } d \\\\\n",
        "0 & \\text{en otro caso}\n",
        "\\end{cases}\n",
        "$$\n",
        "\n",
        "Variable 𝑌𝑎,𝑑 ​\n",
        "\n",
        "Indica si el actor 𝑎 trabaja en el día 𝑑. Esto ocurre cuando el actor participa en al menos una toma ese día.\n",
        "\n",
        "$$\n",
        "Y_{a,d} =\n",
        "\\begin{cases}\n",
        "1 & \\text{si el actor } a \\text{ trabaja el día } d \\\\\n",
        "0 & \\text{en otro caso}\n",
        "\\end{cases}\n",
        "$$\n",
        "\n",
        "2. Estructuras de Datos Adecuadas:\n",
        "Se utiliza principalmente una combinación de:\n",
        "\n",
        "Matrices Binarias:\n",
        "\n",
        "Para relacionar las tomas con los actores.\n",
        "\n",
        "Ejemplo: Matriz 𝐴𝑡,donde 𝐴𝑡,𝑎= 1 si el actor 𝑎 participa en la toma 𝑡, o 0 en caso contrario.\n",
        "\n",
        "Diccionarios:\n",
        "\n",
        "Para gestionar las variables binarias del problema y acceder rápidamente a combinaciones específicas.\n",
        "\n",
        "Ejemplos:\n",
        "\n",
        "Diccionario 𝑋 con claves de la forma (𝑡,𝑑).\n",
        "\n",
        "Diccionario 𝑌 con claves de la forma (𝑎,𝑑).\n",
        "\n",
        "Esto lo veo que  permite acceder y modificar rápidamente decisiones específicas, especialmente va ser  útil en problemas grandes y con múltiples variables.\n",
        "\n",
        "\n",
        "# **B. ¿Como implemento las restricciones?**\n",
        "\n",
        "\n",
        "1. Restricciones asociadas al problema:\n",
        "segun el problema el espacio de soluciones está limitado por las siguientes restricciones:\n",
        "\n",
        "Cada toma debe realizarse exactamente en un día:\n",
        "\n",
        "$$\n",
        "\\sum_{d=1}^{D} X_{t,d} = 1, \\quad \\text{para cada toma } t\n",
        "$$\n",
        "\n",
        "No se pueden realizar más de 6 tomas por día:\n",
        "\n",
        "$$\n",
        "\\sum_{t=1}^{T} X_{t,d} \\leq 6, \\quad \\text{para cada día } d\n",
        "$$\n",
        "\n",
        "Relación entre las variables 𝑋 y 𝑌:\n",
        "\n",
        "Un actor trabaja un día si alguna de las tomas en las que participa se realiza ese día:\n",
        "\n",
        "$$\n",
        "Y_{a,d} \\geq X_{t,d}, \\quad \\text{para cada actor } a, \\text{ día } d, \\text{ y toma } t \\text{ en la que participe el actor } a\n",
        "$$\n",
        "\n",
        "2. Tamaño del Espacio de Soluciones (sin restricciones):\n",
        "Sin considerar restricciones, el espacio de soluciones para asignar\n",
        "𝑇 tomas en 𝐷 días es:\n",
        "\n",
        "$$\\mathbf{D^T}$$\n",
        "\n",
        "Con los valores dados (𝑇=30 tomas y 𝐷=3), el espacio total sin restricciones es:\n",
        "\n",
        "\\$$3^{30} = 205.891.132.094.649$$\n",
        "\n",
        "3. Función Objetivo:\n",
        "En este punto considero que  podemos partir que el objetivo del problema es minimizar el total de días trabajados por los actores, esto lo podemos representado por:\n",
        "\n",
        "$$min\\sum_{a=1}^{A}\\sum_{d=1}^{D}y_{a,d}$$\n",
        "\n",
        "Donde:\n",
        "\n",
        "𝐴 = número total de actores.\n",
        "\n",
        "𝐷 = días disponibles.\n",
        "\n",
        "Supongamos que en nuestro ejemplo, es decir, 10 actores y 30 tomas se deben distribuir en un máximo de 5 días. Si una planificación distribuye las tomas de forma que cada actor trabaja 3 días en total, la función objetivo devolvería:\n",
        "\n",
        "$$min\\sum_{a=1}^{10}\\sum_{d=1}^{5}y_{a,d} = 3 \\times 10 = 30$$\n",
        "\n",
        "Pero si encontramos una mejor planificación donde cada actor solo trabaja 2 días en total, entonces la función objetivo se reducira a:\n",
        "\n",
        "$$min\\sum_{a=1}^{10}\\sum_{d=1}^{5}y_{a,d} = 2 \\times 10 = 20$$\n",
        "\n",
        "Como denotamos, es una función objetivo que busca minimizar este valor, la solución óptima será aquella que distribuya las tomas de manera eficiente para que los actores trabajen el menor número de días posible.\n",
        "\n",
        "Así diccionario ayudaria a calcular cuántos días trabajan los actores y a minimizar ese número en nuestra solución."
      ],
      "metadata": {
        "id": "GmrIz6QcO5pB"
      }
    },
    {
      "cell_type": "markdown",
      "source": [],
      "metadata": {
        "id": "67p_vszBposu"
      }
    },
    {
      "cell_type": "code",
      "metadata": {
        "id": "AiskKkzZfy4e"
      },
      "source": [
        "#Respuesta\n",
        "X = {(t, d): LpVariable(f\"x_{t}_{d}\", cat=LpBinary) for t in range(T) for d in range(D)}\n",
        "Y = {(a, d): LpVariable(f\"y_{a}_{d}\", cat=LpBinary) for a in range(A_actors) for d in range(D)}"
      ],
      "execution_count": null,
      "outputs": []
    },
    {
      "cell_type": "markdown",
      "source": [
        "# **C. ¿Cual es la función objetivo?**\n",
        "\n",
        "La función objetivo del modelo es minimizar el número total de días trabajados por los actores. Esto se expresa matemáticamente como:\n",
        "\n",
        "$$min\\sum_{a=1}^{A}\\sum_{d=1}^{D}y_{a,d}$$\n",
        "\n",
        "donde $y_{a,d}$ es una variable binaria que indica si el actor $a$ trabaja en el día $d$. $A$ es el número total de actores y $D$ es el número máximo de días posibles para realizar las tomas.\n",
        "\n",
        "Supongamos que en nuestro ejemplo, es decir, 10 actores y 30 tomas se deben distribuir en un máximo de 5 días. Si una planificación distribuye las tomas de forma que cada actor trabaja 3 días en total, la función objetivo devolvería:\n",
        "\n",
        "$$min\\sum_{a=1}^{10}\\sum_{d=1}^{5}y_{a,d} = 3 \\times 10 = 30$$\n",
        "\n",
        "Pero si encontramos una mejor planificación donde cada actor solo trabaja 2 días en total, entonces la función objetivo se reducira a:\n",
        "\n",
        "$$min\\sum_{a=1}^{10}\\sum_{d=1}^{5}y_{a,d} = 2 \\times 10 = 20$$\n",
        "\n",
        "Como denotamos, es una función objetivo que busca minimizar este valor, la solución óptima será aquella que distribuya las tomas de manera eficiente para que los actores trabajen el menor número de días posible.\n",
        "\n"
      ],
      "metadata": {
        "id": "LdOeGsGmCDLL"
      }
    },
    {
      "cell_type": "markdown",
      "source": [
        "Diseño un algoritmo para resolver el problema por fuerza bruta\n",
        "\n",
        "A continuación se implementa un algoritmo de fuerza bruta visto en clase  para encontrar la mejor manera de agrupar las tomas en días, minimizando la cantidad de días en los que trabajan los actores. Se granatiza esto con el uso de  itertools.permutations  que genera todas las combinaciones posibles de las tomas para evaluar cuál distribución minimiza el número de días trabajados."
      ],
      "metadata": {
        "id": "HUgeTA7FCQqc"
      }
    },
    {
      "cell_type": "code",
      "source": [
        "from itertools import permutations\n",
        "import numpy as np\n",
        "\n",
        "A = np.array([\n",
        "    [1,1,1,1,1,0,0,0,0,0],\n",
        "    [0,0,1,1,1,0,0,0,0,0],\n",
        "    [0,1,0,0,1,0,1,0,0,0],\n",
        "    [1,1,0,0,0,0,1,1,0,0],\n",
        "    [0,1,0,1,0,0,0,1,0,0],\n",
        "    [1,1,0,1,1,0,0,0,0,0],\n",
        "    [1,1,0,1,1,0,0,0,0,0],\n",
        "    [1,1,0,0,0,1,0,0,0,0],\n",
        "    [1,1,0,1,0,0,0,0,0,0],\n",
        "    [1,1,0,0,0,1,0,0,1,0],\n",
        "    [1,1,1,0,1,0,0,1,0,0],\n",
        "    [1,1,1,1,0,1,0,0,0,0],\n",
        "    [1,0,0,1,1,0,0,0,0,0],\n",
        "    [1,0,1,0,0,1,0,0,0,0],\n",
        "    [1,1,0,0,0,0,1,0,0,0],\n",
        "    [0,0,0,1,0,0,0,0,0,1],\n",
        "    [1,0,1,0,0,0,0,0,0,0],\n",
        "    [0,0,1,0,0,1,0,0,0,0],\n",
        "    [1,0,1,0,0,0,0,0,0,0],\n",
        "    [1,0,1,1,1,0,0,0,0,0],\n",
        "    [0,0,0,0,0,1,0,1,0,0],\n",
        "    [1,1,1,1,0,0,0,0,0,0],\n",
        "    [1,0,1,0,0,0,0,0,0,0],\n",
        "    [0,0,1,0,0,1,0,0,0,0],\n",
        "    [1,1,0,1,0,0,0,0,0,1],\n",
        "    [1,0,1,0,1,0,0,0,1,0],\n",
        "    [0,0,0,1,1,0,0,0,0,0],\n",
        "    [1,0,0,1,0,0,0,0,0,0],\n",
        "    [1,0,0,0,1,1,0,0,0,0],\n",
        "    [1,0,0,1,0,0,0,0,0,0],\n",
        "])\n",
        "\n",
        "T, A_actors = A.shape  # Número de tomas y actores\n",
        "D = (T + 5) // 6  # Número máximo de días (se divide por 6 ya que no pueden grabarse más de 6 tomas por día)\n",
        "\n",
        "# Algoritmo de fuerza bruta para minimizar los días trabajados por actores\n",
        "def brute_force_schedule():\n",
        "    min_days = float('inf')\n",
        "    best_schedule = None\n",
        "\n",
        "    for perm in permutations(range(T)):\n",
        "        temp_schedule = {d: [] for d in range(D)}\n",
        "        temp_actors_per_day = {d: set() for d in range(D)}\n",
        "\n",
        "        for i, t in enumerate(perm):\n",
        "            d = i // 6\n",
        "            temp_schedule[d].append(t + 1)\n",
        "            for a in range(A_actors):\n",
        "                if A[t, a] == 1:\n",
        "                    temp_actors_per_day[d].add(a + 1)\n",
        "\n",
        "        total_days = sum(1 for d in temp_actors_per_day if temp_actors_per_day[d])\n",
        "        if total_days < min_days:\n",
        "            min_days = total_days\n",
        "            best_schedule = temp_schedule\n",
        "\n",
        "    return best_schedule\n",
        "\n",
        "# Ejecutar el algoritmo de fuerza bruta\n",
        "brute_force_result = brute_force_schedule()\n",
        "if brute_force_result:\n",
        "    for d in sorted(brute_force_result.keys()):\n",
        "        if brute_force_result[d]:\n",
        "            print(f\"Día {d+1}\")\n",
        "            print(f\"Tomas: {brute_force_result[d]}\")\n",
        "            print()"
      ],
      "metadata": {
        "id": "uTgvrvxFhs0_"
      },
      "execution_count": null,
      "outputs": []
    },
    {
      "cell_type": "markdown",
      "source": [],
      "metadata": {
        "id": "Sv-cZJwlBzmc"
      }
    },
    {
      "cell_type": "markdown",
      "source": [
        "#Análisis\n",
        "- ¿Que complejidad tiene el problema?. Orden de complejidad y Contabilizar el espacio de soluciones"
      ],
      "metadata": {
        "id": "HZz52wOppp-U"
      }
    },
    {
      "cell_type": "markdown",
      "source": [
        "La complejidad que  tiene  algoritmo  es por fuerza bruta se debe en su mayor parte a la Generación de Permutaciones $(permutations)$, el número de maneras de ordenar las $T$ tomas es $T!$.\n",
        "\n",
        "Dentro de este esta la Distribución de Tomas en Días $(enumerate)$ este recorre las tomas una por una, asignándolas a días y contando actores implicados. Esto tiene una complejidad de $O(T)$ por cada permutación. Asi, la complejidad total del algoritmo por fuerza bruta es:\n",
        "\n",
        "$$O(T! \\cdot T)$$\n",
        "\n",
        "Es extremadamente costoso para valores grandes, especialmente para un incremento en $T$ tomas.\n"
      ],
      "metadata": {
        "id": "pr27r_ytFJ6k"
      }
    },
    {
      "cell_type": "markdown",
      "source": [
        "# **Propuesta de mejora**\n",
        "\n",
        "\n",
        "Usaremos un algoritmo de programación lineal entera (PLE), pues como se define en la guia, un problema de programación lineal es aquel que trata de maximizar (o minimizar en nuestro caso) una función objetivo lineal sujeta a unas restricciones de igualdad o desigualdad. Tal como se plante en el problema que queremos solucionar, pues aunque fuerza bruta puede llegar al resultado, la complejidad computacional no lo dejaria ejecutar n veces para casos diferentes. También como todas las variables del problema son enteras, el problema se considera puro.\n",
        "\n",
        "Haremos usp del paquete pulp, este permite formular y resolver problemas de optimización lineal y programación lineal entera."
      ],
      "metadata": {
        "id": "38NkdBMIGOeN"
      }
    },
    {
      "cell_type": "markdown",
      "source": [],
      "metadata": {
        "id": "BqfrK7VaFewK"
      }
    },
    {
      "cell_type": "code",
      "metadata": {
        "id": "m1eyM21Vkabg"
      },
      "source": [
        "!pip install pulp\n",
        "\n",
        "from pulp import LpProblem, LpVariable, lpSum, LpMinimize, LpBinary\n",
        "import numpy as np\n",
        "\n",
        "# Datos de la matriz (actores en tomas)\n",
        "# Cada fila representa una toma y cada columna representa un actor.\n",
        "# Un '1' indica que el actor participa en la toma correspondiente.\n",
        "A = np.array([\n",
        "    [1,1,1,1,1,0,0,0,0,0],\n",
        "    [0,0,1,1,1,0,0,0,0,0],\n",
        "    [0,1,0,0,1,0,1,0,0,0],\n",
        "    [1,1,0,0,0,0,1,1,0,0],\n",
        "    [0,1,0,1,0,0,0,1,0,0],\n",
        "    [1,1,0,1,1,0,0,0,0,0],\n",
        "    [1,1,0,1,1,0,0,0,0,0],\n",
        "    [1,1,0,0,0,1,0,0,0,0],\n",
        "    [1,1,0,1,0,0,0,0,0,0],\n",
        "    [1,1,0,0,0,1,0,0,1,0],\n",
        "    [1,1,1,0,1,0,0,1,0,0],\n",
        "    [1,1,1,1,0,1,0,0,0,0],\n",
        "    [1,0,0,1,1,0,0,0,0,0],\n",
        "    [1,0,1,0,0,1,0,0,0,0],\n",
        "    [1,1,0,0,0,0,1,0,0,0],\n",
        "    [0,0,0,1,0,0,0,0,0,1],\n",
        "    [1,0,1,0,0,0,0,0,0,0],\n",
        "    [0,0,1,0,0,1,0,0,0,0],\n",
        "    [1,0,1,0,0,0,0,0,0,0],\n",
        "    [1,0,1,1,1,0,0,0,0,0],\n",
        "    [0,0,0,0,0,1,0,1,0,0],\n",
        "    [1,1,1,1,0,0,0,0,0,0],\n",
        "    [1,0,1,0,0,0,0,0,0,0],\n",
        "    [0,0,1,0,0,1,0,0,0,0],\n",
        "    [1,1,0,1,0,0,0,0,0,1],\n",
        "    [1,0,1,0,1,0,0,0,1,0],\n",
        "    [0,0,0,1,1,0,0,0,0,0],\n",
        "    [1,0,0,1,0,0,0,0,0,0],\n",
        "    [1,0,0,0,1,1,0,0,0,0],\n",
        "    [1,0,0,1,0,0,0,0,0,0],\n",
        "])\n",
        "\n",
        "T, A_actors = A.shape  # Número de tomas y actores\n",
        "D = (T + 5) // 6  # Número máximo de días (se divide por 6 ya que no pueden grabarse más de 6 tomas por día)\n",
        "\n",
        "# Definir el problema de optimización (Minimización de costos)\n",
        "prob = LpProblem(\"Minimizar_Costos_Doblaje\", LpMinimize)\n",
        "\n",
        "# Variables de decisión\n",
        "# x[t, d] = 1 si la toma 't' se graba en el día 'd'\n",
        "x = LpVariable.dicts(\"x\", [(t, d) for t in range(T) for d in range(D)], cat=LpBinary)\n",
        "# y[a, d] = 1 si el actor 'a' trabaja en el día 'd'\n",
        "y = LpVariable.dicts(\"y\", [(a, d) for a in range(A_actors) for d in range(D)], cat=LpBinary)\n",
        "\n",
        "# Restricción 1: Cada toma se asigna a un único día\n",
        "for t in range(T):\n",
        "    prob += lpSum(x[(t, d)] for d in range(D)) == 1\n",
        "\n",
        "# Restricción 2: No más de 6 tomas por día\n",
        "for d in range(D):\n",
        "    prob += lpSum(x[(t, d)] for t in range(T)) <= 6\n",
        "\n",
        "# Restricción 3: Un actor trabaja un día si participa en al menos una toma\n",
        "for a in range(A_actors):\n",
        "    for d in range(D):\n",
        "        prob += lpSum(A[t, a] * x[(t, d)] for t in range(T)) <= y[(a, d)] * T\n",
        "\n",
        "# Función objetivo: Minimizar el número total de días trabajados por los actores\n",
        "prob += lpSum(y[(a, d)] for a in range(A_actors) for d in range(D))\n",
        "\n",
        "# Resolver el problema\n",
        "prob.solve()\n",
        "\n",
        "# Procesar la solución para obtener el cronograma\n",
        "schedule = {d: [] for d in range(D)}  # Tomas asignadas a cada día\n",
        "actors_per_day = {d: set() for d in range(D)}  # Actores que trabajan cada día\n",
        "\n",
        "for t in range(T):\n",
        "    for d in range(D):\n",
        "        if x[(t, d)].varValue == 1:  # Si la toma 't' se asignó al día 'd'\n",
        "            schedule[d].append(t + 1)  # Se almacena la toma (sumando 1 para indexado humano)\n",
        "            for a in range(A_actors):\n",
        "                if A[t, a] == 1:  # Si el actor participa en la toma\n",
        "                    actors_per_day[d].add(a + 1)  # Se añade a la lista de actores (sumando 1 para indexado humano)\n",
        "\n",
        "# Imprimir la planificación óptima\n",
        "for d in sorted(schedule.keys()):\n",
        "    if schedule[d]:  # Si hay tomas programadas en este día\n",
        "        print(f\"Día {d+1}\")\n",
        "        print(f\"Tomas: {schedule[d]}\")\n",
        "        print(f\"Actores implicados: {sorted(actors_per_day[d])}\\n\")"
      ],
      "execution_count": null,
      "outputs": []
    },
    {
      "cell_type": "markdown",
      "source": [
        "**Calculo la complejidad del algoritmo Propuesto**\n",
        "\n",
        "Se debe tener en cuenta que los PLE son NP-duros, es decir, que el tiempo de resolución depende del tamaño de entrada y la estructura del problema.\n",
        "\n",
        "El algoritmo tiene diferentes enfoques que puede cambiar su complejidad, analizaremos de a poco para llegar a una conclusión.\n",
        "\n",
        "Lo primero en el algoritmo son las variables de decisión, es decir los diccionarios que van capturando el resultado tienen el siguiente orden:\n",
        "\n",
        "- $x[t, d]$ : $T \\times D$ variables binarias para asignar tomas a días.\n",
        "- $y[a, d]$ : $A \\times D$ variables binarias para los actores por día.\n",
        "\n",
        "Por lo tanto por este lado tendriamos una suma de ambas variables vinarias\n",
        "\n",
        "$$O(TD+AD)$$\n",
        "\n",
        "Ahora, veremos la complejidad de cada una de las tres restricciones:\n",
        "\n",
        "- Cada toma debe asignarse a un solo día, este tiene una complejidad de $O(T)$, es un for dado solo hacia las tomas\n",
        "- No más de 6 tomas por día, esta restricción tiene una complejidad de $O(D)$.\n",
        "- Un actor trabaja un día si participa en al menos una toma, esta podria considerarse que tiene una complejidad de $O(AD)$, viene de un for anidado que implica los dias junto con los actores. Por lo tanto,\n",
        "\n",
        "$$O(A\\times D\\times T)$$\n",
        "\n",
        "El útimo fragmento de codigo nos muestra que tiene dos bucles anidados precedidos por un if:\n",
        "- El primero de estos bucles tiene un for que Itera sobre todas las tomas $(T)$ y otro que Itera sobre todos los días $(D)$. Es decir, que tiene complejidad $O\n",
        "(T \\times D)$.\n",
        "- El condicional solo verifica si la toma t se asignó al día d. Por lo tanto esta operación es $O(1)$.\n",
        "- El segundo bucle empieza iterando sobre los Actores, $O(A)$, precide por un condicional que comprueba si el actor $a$ participa en la toma $t$, $O(1)$, lo mismo sucede con el .add, pues añade a el actor al conjunto del día $d$, $O(1)$.Asi que aqui también tiene un comportamiento parecido y por lo tanto esta sera la complejidad del algoritmo total\n",
        "\n",
        "$$O(A\\times D\\times T)$$\n",
        "\n",
        "Dependera de los Actores, de los dias y de las tomas. Entre mas grandes sean mas complejo sera el resultado."
      ],
      "metadata": {
        "id": "MVI29SDjG0kk"
      }
    },
    {
      "cell_type": "markdown",
      "source": [
        "Cambiaremos un poco los datos, esta vez se haran 20 tomas, solo con 5 actores, en un maximo de 5 dias. Se añade la semilla para reproducibilidad"
      ],
      "metadata": {
        "id": "tB7e9TmrHoM_"
      }
    },
    {
      "cell_type": "code",
      "source": [
        "import numpy as np\n",
        "\n",
        "# Parámetros para generar datos aleatorios\n",
        "num_tomas = 20  # Número de tomas\n",
        "num_actores = 5  # Número de actores\n",
        "\n",
        "# Generar una matriz aleatoria de participación de actores en tomas\n",
        "# Cada actor tiene una probabilidad del 50% de estar en una toma\n",
        "np.random.seed(42)  # Para reproducibilidad\n",
        "A = (np.random.rand(num_tomas, num_actores) < 0.5).astype(int)\n",
        "\n",
        "T, A_actors = A.shape  # Número de tomas y actores\n",
        "D = (T + 5) // 5  # Número máximo de días (se divide por 5 ya que no pueden grabarse más de 5 tomas por día)\n",
        "\n",
        "A #20 tomas(filas) , 5 actores(columnas)"
      ],
      "metadata": {
        "id": "OZfjdLvdHyB5"
      },
      "execution_count": null,
      "outputs": []
    },
    {
      "cell_type": "markdown",
      "source": [
        "Se considera el mismo proceso"
      ],
      "metadata": {
        "id": "8bZJO5ekH6s8"
      }
    },
    {
      "cell_type": "code",
      "metadata": {
        "id": "Jkx8GeiYlUz1"
      },
      "source": [
        "from pulp import LpProblem, LpVariable, lpSum, LpMinimize, LpBinary\n",
        "\n",
        "# Definir el problema de optimización (Minimización de costos)\n",
        "prob = LpProblem(\"Minimizar_Costos_Doblaje\", LpMinimize)\n",
        "\n",
        "# Variables de decisión\n",
        "# x[t, d] = 1 si la toma 't' se graba en el día 'd'\n",
        "x = LpVariable.dicts(\"x\", [(t, d) for t in range(T) for d in range(D)], cat=LpBinary)\n",
        "# y[a, d] = 1 si el actor 'a' trabaja en el día 'd'\n",
        "y = LpVariable.dicts(\"y\", [(a, d) for a in range(A_actors) for d in range(D)], cat=LpBinary)\n",
        "\n",
        "# Restricción 1: Cada toma se asigna a un único día\n",
        "for t in range(T):\n",
        "    prob += lpSum(x[(t, d)] for d in range(D)) == 1\n",
        "\n",
        "# Restricción 2: No más de 6 tomas por día\n",
        "for d in range(D):\n",
        "    prob += lpSum(x[(t, d)] for t in range(T)) <= 6\n",
        "\n",
        "# Restricción 3: Un actor trabaja un día si participa en al menos una toma\n",
        "for a in range(A_actors):\n",
        "    for d in range(D):\n",
        "        prob += lpSum(A[t, a] * x[(t, d)] for t in range(T)) <= y[(a, d)] * T\n",
        "\n",
        "# Función objetivo: Minimizar el número total de días trabajados por los actores\n",
        "prob += lpSum(y[(a, d)] for a in range(A_actors) for d in range(D))\n",
        "\n",
        "# Resolver el problema\n",
        "prob.solve()\n",
        "\n",
        "# Procesar la solución para obtener el cronograma\n",
        "schedule = {d: [] for d in range(D)}  # Tomas asignadas a cada día\n",
        "actors_per_day = {d: set() for d in range(D)}  # Actores que trabajan cada día\n",
        "\n",
        "for t in range(T):\n",
        "    for d in range(D):\n",
        "        if x[(t, d)].varValue == 1:  # Si la toma 't' se asignó al día 'd'\n",
        "            schedule[d].append(t + 1)  # Se almacena la toma (sumando 1 para indexado humano)\n",
        "            for a in range(A_actors):\n",
        "                if A[t, a] == 1:  # Si el actor participa en la toma\n",
        "                    actors_per_day[d].add(a + 1)  # Se añade a la lista de actores (sumando 1 para indexado humano)\n",
        "\n",
        "# Imprimir la planificación óptima\n",
        "for d in sorted(schedule.keys()):\n",
        "    if schedule[d]:  # Si hay tomas programadas en este día\n",
        "        print(f\"Día {d+1}\")\n",
        "        print(f\"Tomas: {schedule[d]}\")\n",
        "        print(f\"Actores implicados: {sorted(actors_per_day[d])}\\n\")\n"
      ],
      "execution_count": null,
      "outputs": []
    },
    {
      "cell_type": "markdown",
      "source": [],
      "metadata": {
        "id": "irS9nLl6Hmd_"
      }
    },
    {
      "cell_type": "markdown",
      "source": [
        "#Diseño\n",
        "- ¿Que técnica utilizo? ¿Por qué?"
      ],
      "metadata": {
        "id": "ixEJUwH_pv7M"
      }
    },
    {
      "cell_type": "markdown",
      "source": [
        "\n",
        "*    el PLE es un algoritmo NP-duro, experimentariamos como incremental un metodo heurístico, pues su objetivo es encontrar soluciones buenas a problemas complejos en terminos de tiempo y coste computacional. Primero tomaria como prueba el algoritmo Genetico para integración crossover y mutación.\n",
        "*   Añadir nuevas restricciones como coste de ciertos actores, asi como el tiempo de disponibilidad de ciertos de ellos. También que puede que un dia se enferme un actor principal para ver el comportamiento del algoritmo. Algo asi como gemelos digitales de ciertas compañias.\n",
        "*   Se podria también poner como incremental que ciertos actores deben estar si o si en ciertas escenas, es decir, actor 1 y 2 siempre deben estar juntos.\n",
        "\n",
        "\n",
        "\n",
        "\n",
        "\n"
      ],
      "metadata": {
        "id": "YgWX2p-BI-tT"
      }
    }
  ]
}